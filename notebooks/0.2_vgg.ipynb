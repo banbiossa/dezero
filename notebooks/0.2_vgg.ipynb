{
 "cells": [
  {
   "cell_type": "markdown",
   "id": "64c1739d-bebf-4b4f-82b4-1d942c30d0fe",
   "metadata": {},
   "source": [
    "# 0.2_vgg\n",
    "- 自動生成しよう"
   ]
  },
  {
   "cell_type": "code",
   "execution_count": 1,
   "id": "9eea0a0b-a4ca-4ebf-a05c-cf2259b5ccd3",
   "metadata": {},
   "outputs": [],
   "source": [
    "%load_ext autoreload\n",
    "%autoreload 2\n",
    "%load_ext blackcellmagic"
   ]
  },
  {
   "cell_type": "code",
   "execution_count": 2,
   "id": "9819d385-888f-498b-8dd9-1febb856c24e",
   "metadata": {},
   "outputs": [],
   "source": [
    "def conv_2d(i, j, in_size):\n",
    "    return f\"self.conv{i}_{j} = L.Conv2D({in_size}, kernel_size=3, stride=1, pad=1)\""
   ]
  },
  {
   "cell_type": "code",
   "execution_count": 3,
   "id": "3bcc63cc-208e-4f4e-a1c2-9f18311d4f29",
   "metadata": {},
   "outputs": [],
   "source": [
    "i_list = [i for i in range(1, 6)]\n",
    "j_list = [j for j in range(1, 4)]"
   ]
  },
  {
   "cell_type": "code",
   "execution_count": 4,
   "id": "963e59ac-39a3-4c35-bd84-6748ae0f6793",
   "metadata": {},
   "outputs": [],
   "source": [
    "i_to_in_size= {\n",
    "    1: 64,\n",
    "    2: 128,\n",
    "    3: 256,\n",
    "    4: 512,\n",
    "    5: 512,\n",
    "}"
   ]
  },
  {
   "cell_type": "code",
   "execution_count": 5,
   "id": "e496eab5-808b-4521-824d-6e8c86b0cce9",
   "metadata": {},
   "outputs": [
    {
     "name": "stdout",
     "output_type": "stream",
     "text": [
      "self.conv1_1 = L.Conv2D(64, kernel_size=3, stride=1, pad=1)\n",
      "self.conv1_2 = L.Conv2D(64, kernel_size=3, stride=1, pad=1)\n",
      "self.conv1_3 = L.Conv2D(64, kernel_size=3, stride=1, pad=1)\n",
      "self.conv2_1 = L.Conv2D(128, kernel_size=3, stride=1, pad=1)\n",
      "self.conv2_2 = L.Conv2D(128, kernel_size=3, stride=1, pad=1)\n",
      "self.conv2_3 = L.Conv2D(128, kernel_size=3, stride=1, pad=1)\n",
      "self.conv3_1 = L.Conv2D(256, kernel_size=3, stride=1, pad=1)\n",
      "self.conv3_2 = L.Conv2D(256, kernel_size=3, stride=1, pad=1)\n",
      "self.conv3_3 = L.Conv2D(256, kernel_size=3, stride=1, pad=1)\n",
      "self.conv4_1 = L.Conv2D(512, kernel_size=3, stride=1, pad=1)\n",
      "self.conv4_2 = L.Conv2D(512, kernel_size=3, stride=1, pad=1)\n",
      "self.conv4_3 = L.Conv2D(512, kernel_size=3, stride=1, pad=1)\n",
      "self.conv5_1 = L.Conv2D(512, kernel_size=3, stride=1, pad=1)\n",
      "self.conv5_2 = L.Conv2D(512, kernel_size=3, stride=1, pad=1)\n",
      "self.conv5_3 = L.Conv2D(512, kernel_size=3, stride=1, pad=1)\n"
     ]
    }
   ],
   "source": [
    "for i in i_list:\n",
    "    for j in j_list:\n",
    "        res = conv_2d(i, j, i_to_in_size[i])\n",
    "        print(res)"
   ]
  },
  {
   "cell_type": "code",
   "execution_count": 9,
   "id": "6d5e1bd8-f557-4561-812c-c9c38972d493",
   "metadata": {},
   "outputs": [],
   "source": [
    "def forward(i, j):\n",
    "    return f\"x = F.relu(self.conv{i}_{j}(x))\"\n",
    "\n",
    "def pooling():\n",
    "    return \"x = F.pooling(x, 2, 2)\""
   ]
  },
  {
   "cell_type": "code",
   "execution_count": 10,
   "id": "0d047127-d7bb-4874-b053-3e13b34db86f",
   "metadata": {},
   "outputs": [
    {
     "name": "stdout",
     "output_type": "stream",
     "text": [
      "x = F.relu(self.conv1_1(x))\n",
      "x = F.relu(self.conv1_2(x))\n",
      "x = F.relu(self.conv1_3(x))\n",
      "x = F.pooling(x, 2, 2)\n",
      "x = F.relu(self.conv2_1(x))\n",
      "x = F.relu(self.conv2_2(x))\n",
      "x = F.relu(self.conv2_3(x))\n",
      "x = F.pooling(x, 2, 2)\n",
      "x = F.relu(self.conv3_1(x))\n",
      "x = F.relu(self.conv3_2(x))\n",
      "x = F.relu(self.conv3_3(x))\n",
      "x = F.pooling(x, 2, 2)\n",
      "x = F.relu(self.conv4_1(x))\n",
      "x = F.relu(self.conv4_2(x))\n",
      "x = F.relu(self.conv4_3(x))\n",
      "x = F.pooling(x, 2, 2)\n",
      "x = F.relu(self.conv5_1(x))\n",
      "x = F.relu(self.conv5_2(x))\n",
      "x = F.relu(self.conv5_3(x))\n",
      "x = F.pooling(x, 2, 2)\n"
     ]
    }
   ],
   "source": [
    "for i in i_list:\n",
    "    for j in j_list:\n",
    "        res = forward(i, j)\n",
    "        print(res)\n",
    "    print(pooling())"
   ]
  },
  {
   "cell_type": "code",
   "execution_count": null,
   "id": "7f942338-ede4-42aa-ae54-0549e5ca911c",
   "metadata": {},
   "outputs": [],
   "source": []
  }
 ],
 "metadata": {
  "kernelspec": {
   "display_name": "Python 3 (ipykernel)",
   "language": "python",
   "name": "python3"
  },
  "language_info": {
   "codemirror_mode": {
    "name": "ipython",
    "version": 3
   },
   "file_extension": ".py",
   "mimetype": "text/x-python",
   "name": "python",
   "nbconvert_exporter": "python",
   "pygments_lexer": "ipython3",
   "version": "3.9.9"
  }
 },
 "nbformat": 4,
 "nbformat_minor": 5
}
